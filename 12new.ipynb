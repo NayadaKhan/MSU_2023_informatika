{
  "nbformat": 4,
  "nbformat_minor": 0,
  "metadata": {
    "colab": {
      "provenance": [],
      "authorship_tag": "ABX9TyN7RqjFIjeO1oUVP7cG44nb"
    },
    "kernelspec": {
      "name": "python3",
      "display_name": "Python 3"
    },
    "language_info": {
      "name": "python"
    }
  },
  "cells": [
    {
      "cell_type": "code",
      "execution_count": 20,
      "metadata": {
        "colab": {
          "base_uri": "https://localhost:8080/"
        },
        "id": "CJtwUCPYJd6-",
        "outputId": "598929e7-7451-4bb7-8d35-06c0f70d211c"
      },
      "outputs": [
        {
          "output_type": "stream",
          "name": "stdout",
          "text": [
            "2\n",
            "0.5 0\n",
            "0 0.5\n",
            "2\n",
            "3 2\n",
            "2 3\n",
            "0.5 -0.0\n",
            "0.0 0.5\n"
          ]
        }
      ],
      "source": [
        "import numpy as np\n",
        "n = int (input())\n",
        "A = [[float(j) for j in input().split()] for i in range (n)]\n",
        "A = np.array(A)\n",
        "n = int (input())\n",
        "B = [[float(j) for j in input().split()]for i in range (n)]\n",
        "B = np.array(B)\n",
        "B1 = np.linalg.inv (B)\n",
        "A1 = (B1.dot(A)).dot(B)\n",
        "for i in range (0,len(A1)):\n",
        "    for j in range (0,len(A1)):\n",
        "       A1[i][j] = round (A1[i][j], 1)\n",
        "for i in range (0,len(A1)):\n",
        "    print(*A1[i])"
      ]
    }
  ]
}